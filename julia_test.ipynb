{
 "cells": [
  {
   "cell_type": "code",
   "execution_count": 30,
   "id": "bc838e7e",
   "metadata": {},
   "outputs": [],
   "source": [
    "using BenchmarkTools\n",
    "using Distances\n",
    "using StaticArrays\n",
    "using Plots\n",
    "using LinearAlgebra\n",
    "using ProgressBars\n",
    "using CUDA\n",
    "using Adapt"
   ]
  },
  {
   "cell_type": "code",
   "execution_count": 31,
   "id": "5348bf12",
   "metadata": {},
   "outputs": [],
   "source": [
    "struct GaussianBeam{T<:Real}\n",
    "    E0::T\n",
    "    w0::T\n",
    "    θ::T\n",
    "    k::SVector{3, T}\n",
    "    u2::SVector{3, T}\n",
    "    u3::SVector{3, T}\n",
    "end\n",
    "\n",
    "GaussianBeam(E0, w0, θ) = GaussianBeam(E0, w0, θ, SVector(-sin(θ), zero(eltype(θ)), cos(θ)), SVector(cos(θ), zero(eltype(θ)), sin(θ)), SVector(zero(eltype(θ)), one(eltype(θ)), zero(eltype(θ))))\n",
    "\n",
    "Adapt.@adapt_structure GaussianBeam"
   ]
  },
  {
   "cell_type": "code",
   "execution_count": 32,
   "id": "e263a78f",
   "metadata": {},
   "outputs": [],
   "source": [
    "function optical_lattice!(Nd, Rd, a, d, scatterers, centered=false)\n",
    "    scatterers[3, :] .= rand(0:(Nd-1)) .* d .+  a .* 2. .* (rand() .- 0.5) .-  a ./ 2.\n",
    "\n",
    "    Na = size(scatterers, 2)\n",
    "    u = rand(Na)\n",
    "    theta = 2π * rand(Na)\n",
    "\n",
    "    scatterers[1, :] .= Rd .* sqrt.(u) .* cos.(theta)\n",
    "    scatterers[2, :] .= Rd .* sqrt.(u) .* sin.(theta)\n",
    "\n",
    "    if centered\n",
    "        scatterers[3, :] .-= (Nd - 1) * d / 2.0\n",
    "    end\n",
    "\n",
    "    return\n",
    "end\n",
    "\n",
    "function optical_lattice!(Nd, Rd, a, d, scatterers::CuDeviceMatrix{Float32, 1}, centered=false)\n",
    "    i = (blockIdx().x - 1) * blockDim().x + threadIdx().x\n",
    "\n",
    "    if i > size(scatterers, 2)\n",
    "        return\n",
    "    end\n",
    "\n",
    "    u = rand(Float32)\n",
    "    theta = 2.0f0π * rand(Float32)\n",
    "    disk_no = rand(0:(Nd-1))\n",
    "\n",
    "    @inbounds scatterers[1, i] = Rd * sqrt(u) * cos(theta)\n",
    "    @inbounds scatterers[2, i] = Rd * sqrt(u) * sin(theta)\n",
    "    @inbounds scatterers[3, i] = disk_no * d + a * 2.0f0 * (rand(Float32) - 0.5f0) - a / 2.0f0\n",
    "\n",
    "    if centered\n",
    "        @inbounds scatterers[3, i] -= (Nd - 1) * d / 2.0f0\n",
    "    end\n",
    "\n",
    "    return nothing\n",
    "end\n",
    "\n",
    "function bragg_periodicity(θ)\n",
    "    return 1. / (2 * cos(θ))\n",
    "end;"
   ]
  },
  {
   "cell_type": "code",
   "execution_count": null,
   "id": "01149b2b",
   "metadata": {},
   "outputs": [],
   "source": [
    "function compute_system_matrix!(scatterers, M, Δ0)\n",
    "    pairwise!(Euclidean(), M, scatterers, dims=2)\n",
    "\n",
    "    @. M = cispi(2. * M) / (2.0π * 1.0im * M)\n",
    "\n",
    "    for i in 1:Na\n",
    "        @inbounds M[i, i] = 1.0 - 2.0im * Δ0\n",
    "    end\n",
    "\n",
    "    M .*= -0.5\n",
    "    M = Symmetric(M)\n",
    "\n",
    "    return\n",
    "end\n",
    "\n",
    "function compute_system_matrix!(scatterers::CuDeviceMatrix{Float32, 1}, M::CuDeviceMatrix{ComplexF32, 1}, Δ0::Float32)\n",
    "    i = (blockIdx().x - 1) * blockDim().x + threadIdx().x\n",
    "    j = (blockIdx().y - 1) * blockDim().y + threadIdx().y\n",
    "\n",
    "    m, n = size(M)\n",
    "    if i > m || j > n\n",
    "        return nothing\n",
    "    end\n",
    "\n",
    "    if i == j\n",
    "        @inbounds M[i, j] = -0.5f0 + 1.0f0im * Δ0\n",
    "        return nothing\n",
    "    end\n",
    "\n",
    "    dist = zero(eltype(M))\n",
    "    for k in 1:3\n",
    "        @inbounds diff = scatterers[k, i] - scatterers[k, j]\n",
    "        dist += diff * diff\n",
    "    end\n",
    "\n",
    "    @inbounds M[i, j] = sqrt(dist)\n",
    "    @inbounds M[i, j] = -0.5f0 * exp(2.0f0im * π * M[i, j]) / (2.0f0im * π * M[i, j])\n",
    "\n",
    "    return\n",
    "end"
   ]
  },
  {
   "cell_type": "code",
   "execution_count": null,
   "id": "d6f3edc7",
   "metadata": {},
   "outputs": [],
   "source": [
    "function compute_field(x, y, z; field::GaussianBeam{T})::ComplexF64 where T<:Real\n",
    "    proj_z = field.k[1] * x + field.k[2] * y + field.k[3] * z\n",
    "\n",
    "    proj_r2 = (field.u2[1] * x + field.u2[2] * y + field.u2[3] * z)^2 +\n",
    "              (field.u3[1] * x + field.u3[2] * y + field.u3[3] * z)^2\n",
    "\n",
    "    zR = π * field.w0^2\n",
    "    wZ = field.w0 * sqrt(1 + (proj_z / zR)^2)\n",
    "    phase = atan(proj_z / zR)\n",
    "\n",
    "    if proj_z == 0\n",
    "        return field.E0 * exp(-proj_r2 / field.w0^2)\n",
    "    end\n",
    "\n",
    "    Rz = proj_z * (1 + (zR / proj_z)^2)\n",
    "    E = field.E0 * (field.w0 / wZ) * exp(-proj_r2 / wZ^2) * exp(2π * 1im * (proj_z + proj_r2 / (2 * Rz)) -1im * phase)\n",
    "    return E\n",
    "end\n",
    "\n",
    "function compute_field(r; field)\n",
    "    x, y, z = r\n",
    "    return compute_field(x, y, z; field=field)\n",
    "end;\n",
    "\n",
    "function compute_field_xOz!(x1::Float32, x2::Float32, z1::Float32, z2::Float32, Np::Int32, field_matrix::CuDeviceMatrix{ComplexF32, 1})\n",
    "    i = (blockIdx().x - 1) * blockDim().x + threadIdx().x\n",
    "    j = (blockIdx().y - 1) * blockDim().y + threadIdx().y\n",
    "\n",
    "    if i > Np || j > Np\n",
    "        return nothing\n",
    "    end\n",
    "\n",
    "    δx = (x2 - x1) / (Np - 1)\n",
    "    δz = (z2 - z1) / (Np - 1)\n",
    "\n",
    "    x = x1 + (i - 1) * δx\n",
    "    z = z1 + (j - 1) * δz\n",
    "\n",
    "    Na::Int32 = size(scatterers, 2)\n",
    "    for i in 1:Na\n",
    "        @inbounds dist = (scatterers[1, i] - x)^2 + (scatterers[2, i])^2 + (scatterers[3, i] - z)^2\n",
    "        @inbounds field_matrix[i, j] -= exp(2.0f0im * π * dist) / (2.0f0 * π * dist) * amplitudes[i]\n",
    "    end\n",
    "\n",
    "    return nothing\n",
    "end"
   ]
  },
  {
   "cell_type": "code",
   "execution_count": 12,
   "id": "3041bfb3",
   "metadata": {},
   "outputs": [
    {
     "data": {
      "text/plain": [
       "compute_scattered_field_xOz (generic function with 1 method)"
      ]
     },
     "metadata": {},
     "output_type": "display_data"
    }
   ],
   "source": [
    "function compute_scattered_field(x, y, z; scatterers, amplitudes)\n",
    "    result = ComplexF64(0.0)\n",
    "\n",
    "    for i in axes(scatterers, 1)\n",
    "        @inbounds dist = sqrt((scatterers[i, 1] - x )^2 + (scatterers[i, 2] - y)^2 + (scatterers[i, 3] - z)^2)\n",
    "        @inbounds result -= amplitudes[i] * cispi(2 * dist) / (2.0π * dist)\n",
    "    end\n",
    "\n",
    "    return result\n",
    "end\n",
    "\n",
    "function compute_scattered_field_xOz(x1::Float32, x2::Float32, z1::Float32, z2::Float32, Np::Int32, field_matrix::CuDeviceMatrix{ComplexF32, 1}, scatterers::CuDeviceMatrix{Float32, 1}, amplitudes::CuDeviceVector{ComplexF32, 1})\n",
    "    i = (blockIdx().x - 1) * blockDim().x + threadIdx().x\n",
    "    j = (blockIdx().y - 1) * blockDim().y + threadIdx().y\n",
    "\n",
    "    if i > Np || j > Np\n",
    "        return nothing\n",
    "    end\n",
    "\n",
    "    δx = (x2 - x1) / (Np - 1)\n",
    "    δz = (z2 - z1) / (Np - 1)\n",
    "\n",
    "    x = x1 + (i - 1) * δx\n",
    "    z = z1 + (j - 1) * δz\n",
    "\n",
    "    Na::Int32 = size(scatterers, 2)\n",
    "    for i in 1:Na\n",
    "        @inbounds dist = (scatterers[1, i] - x)^2 + (scatterers[2, i])^2 + (scatterers[3, i] - z)^2\n",
    "        @inbounds field_matrix[i, j] -= exp(2.0f0im * π * dist) / (2.0f0 * π * dist) * amplitudes[i]\n",
    "    end\n",
    "\n",
    "    return nothing\n",
    "end"
   ]
  },
  {
   "cell_type": "code",
   "execution_count": 33,
   "id": "be102eee",
   "metadata": {},
   "outputs": [
    {
     "name": "stdout",
     "output_type": "stream",
     "text": [
      "6\n",
      "12\n"
     ]
    },
    {
     "data": {
      "text/plain": [
       "1000"
      ]
     },
     "metadata": {},
     "output_type": "display_data"
    }
   ],
   "source": [
    "println(BLAS.get_num_threads())\n",
    "println(Threads.nthreads())\n",
    "\n",
    "Na  = 2000\n",
    "Nd  = 1\n",
    "Rd  = 9\n",
    "a   = 0.91\n",
    "Δ0  = 0.05\n",
    "\n",
    "E0  = 1e-3\n",
    "w0  = 4.0\n",
    "θ   = deg2rad(60)\n",
    "d   = bragg_periodicity(deg2rad(60.0));\n",
    "\n",
    "Np = 1000\n"
   ]
  },
  {
   "cell_type": "code",
   "execution_count": 34,
   "id": "7e6bfd2f",
   "metadata": {},
   "outputs": [
    {
     "data": {
      "text/plain": [
       "BenchmarkTools.Trial: 10000 samples with 1 evaluation per sample.\n",
       " Range \u001b[90m(\u001b[39m\u001b[36m\u001b[1mmin\u001b[22m\u001b[39m … \u001b[35mmax\u001b[39m\u001b[90m):  \u001b[39m\u001b[36m\u001b[1m25.700 μs\u001b[22m\u001b[39m … \u001b[35m270.900 μs\u001b[39m  \u001b[90m┊\u001b[39m GC \u001b[90m(\u001b[39mmin … max\u001b[90m): \u001b[39m0.00% … 0.00%\n",
       " Time  \u001b[90m(\u001b[39m\u001b[34m\u001b[1mmedian\u001b[22m\u001b[39m\u001b[90m):     \u001b[39m\u001b[34m\u001b[1m39.600 μs               \u001b[22m\u001b[39m\u001b[90m┊\u001b[39m GC \u001b[90m(\u001b[39mmedian\u001b[90m):    \u001b[39m0.00%\n",
       " Time  \u001b[90m(\u001b[39m\u001b[32m\u001b[1mmean\u001b[22m\u001b[39m ± \u001b[32mσ\u001b[39m\u001b[90m):   \u001b[39m\u001b[32m\u001b[1m42.673 μs\u001b[22m\u001b[39m ± \u001b[32m 14.463 μs\u001b[39m  \u001b[90m┊\u001b[39m GC \u001b[90m(\u001b[39mmean ± σ\u001b[90m):  \u001b[39m0.00% ± 0.00%\n",
       "\n",
       "  \u001b[39m \u001b[39m \u001b[39m \u001b[39m \u001b[39m \u001b[39m \u001b[39m \u001b[39m \u001b[39m \u001b[39m \u001b[39m \u001b[39m█\u001b[39m▅\u001b[34m▃\u001b[39m\u001b[39m▁\u001b[39m \u001b[32m \u001b[39m\u001b[39m \u001b[39m \u001b[39m \u001b[39m \u001b[39m \u001b[39m \u001b[39m \u001b[39m \u001b[39m \u001b[39m \u001b[39m \u001b[39m \u001b[39m \u001b[39m \u001b[39m \u001b[39m \u001b[39m \u001b[39m \u001b[39m \u001b[39m \u001b[39m \u001b[39m \u001b[39m \u001b[39m \u001b[39m \u001b[39m \u001b[39m \u001b[39m \u001b[39m \u001b[39m \u001b[39m \u001b[39m \u001b[39m \u001b[39m \u001b[39m \u001b[39m \u001b[39m \u001b[39m \u001b[39m \u001b[39m \u001b[39m \u001b[39m \u001b[39m \u001b[39m \u001b[39m \n",
       "  \u001b[39m▅\u001b[39m▇\u001b[39m▇\u001b[39m▆\u001b[39m▄\u001b[39m▄\u001b[39m▄\u001b[39m▅\u001b[39m▃\u001b[39m▃\u001b[39m▂\u001b[39m█\u001b[39m█\u001b[34m█\u001b[39m\u001b[39m█\u001b[39m▆\u001b[32m▅\u001b[39m\u001b[39m▄\u001b[39m▃\u001b[39m▃\u001b[39m▃\u001b[39m▂\u001b[39m▂\u001b[39m▂\u001b[39m▂\u001b[39m▂\u001b[39m▂\u001b[39m▂\u001b[39m▂\u001b[39m▂\u001b[39m▂\u001b[39m▂\u001b[39m▂\u001b[39m▂\u001b[39m▂\u001b[39m▂\u001b[39m▂\u001b[39m▂\u001b[39m▂\u001b[39m▂\u001b[39m▂\u001b[39m▂\u001b[39m▂\u001b[39m▂\u001b[39m▂\u001b[39m▂\u001b[39m▁\u001b[39m▂\u001b[39m▁\u001b[39m▁\u001b[39m▁\u001b[39m▁\u001b[39m▁\u001b[39m▁\u001b[39m▁\u001b[39m▁\u001b[39m▁\u001b[39m▁\u001b[39m▁\u001b[39m▁\u001b[39m \u001b[39m▂\n",
       "  25.7 μs\u001b[90m         Histogram: frequency by time\u001b[39m           91 μs \u001b[0m\u001b[1m<\u001b[22m\n",
       "\n",
       " Memory estimate\u001b[90m: \u001b[39m\u001b[33m608 bytes\u001b[39m, allocs estimate\u001b[90m: \u001b[39m\u001b[33m19\u001b[39m."
      ]
     },
     "metadata": {},
     "output_type": "display_data"
    }
   ],
   "source": [
    "incident_field = GaussianBeam(E0, w0, θ)\n",
    "scatterers = Matrix{Float32}(undef, 3, Na)\n",
    "scatterers_d = CuMatrix{Float32}(undef, 3, Na)\n",
    "\n",
    "M = Matrix{ComplexF32}(undef, Na, Na)\n",
    "E = Vector{ComplexF32}(undef, Na)\n",
    "A = Vector{ComplexF32}(undef, Na)\n",
    "\n",
    "M_d = CuMatrix{ComplexF32}(undef, Na, Na)\n",
    "E_d = CuVector{ComplexF32}(undef, Na)\n",
    "field_d = CuMatrix{ComplexF32}(undef, Np, Np)\n",
    "\n",
    "@benchmark CUDA.@sync begin\n",
    "    @cuda threads=256 blocks=ceil(Int, Na / 256) optical_lattice!(Nd, Rd, a, d, scatterers_d)\n",
    "end\n"
   ]
  },
  {
   "cell_type": "code",
   "execution_count": 25,
   "id": "7abb3332",
   "metadata": {},
   "outputs": [
    {
     "data": {
      "text/plain": [
       "BenchmarkTools.Trial: 10000 samples with 1 evaluation per sample.\n",
       " Range \u001b[90m(\u001b[39m\u001b[36m\u001b[1mmin\u001b[22m\u001b[39m … \u001b[35mmax\u001b[39m\u001b[90m):  \u001b[39m\u001b[36m\u001b[1m388.100 μs\u001b[22m\u001b[39m … \u001b[35m 66.054 ms\u001b[39m  \u001b[90m┊\u001b[39m GC \u001b[90m(\u001b[39mmin … max\u001b[90m): \u001b[39m0.00% … 98.92%\n",
       " Time  \u001b[90m(\u001b[39m\u001b[34m\u001b[1mmedian\u001b[22m\u001b[39m\u001b[90m):     \u001b[39m\u001b[34m\u001b[1m452.150 μs               \u001b[22m\u001b[39m\u001b[90m┊\u001b[39m GC \u001b[90m(\u001b[39mmedian\u001b[90m):    \u001b[39m0.00%\n",
       " Time  \u001b[90m(\u001b[39m\u001b[32m\u001b[1mmean\u001b[22m\u001b[39m ± \u001b[32mσ\u001b[39m\u001b[90m):   \u001b[39m\u001b[32m\u001b[1m483.036 μs\u001b[22m\u001b[39m ± \u001b[32m717.349 μs\u001b[39m  \u001b[90m┊\u001b[39m GC \u001b[90m(\u001b[39mmean ± σ\u001b[90m):  \u001b[39m4.13% ±  5.16%\n",
       "\n",
       "  \u001b[39m \u001b[39m▁\u001b[39m█\u001b[39m▁\u001b[39m \u001b[39m \u001b[39m \u001b[39m \u001b[39m \u001b[39m \u001b[34m \u001b[39m\u001b[39m \u001b[39m \u001b[39m \u001b[39m \u001b[32m \u001b[39m\u001b[39m \u001b[39m \u001b[39m \u001b[39m \u001b[39m \u001b[39m \u001b[39m \u001b[39m \u001b[39m \u001b[39m \u001b[39m \u001b[39m \u001b[39m \u001b[39m \u001b[39m \u001b[39m \u001b[39m \u001b[39m \u001b[39m \u001b[39m \u001b[39m \u001b[39m \u001b[39m \u001b[39m \u001b[39m \u001b[39m \u001b[39m \u001b[39m \u001b[39m \u001b[39m \u001b[39m \u001b[39m \u001b[39m \u001b[39m \u001b[39m \u001b[39m \u001b[39m \u001b[39m \u001b[39m \u001b[39m \u001b[39m \u001b[39m \u001b[39m \u001b[39m \u001b[39m \u001b[39m \u001b[39m \n",
       "  \u001b[39m▁\u001b[39m█\u001b[39m█\u001b[39m█\u001b[39m▅\u001b[39m▄\u001b[39m▃\u001b[39m▂\u001b[39m▂\u001b[39m▂\u001b[34m▂\u001b[39m\u001b[39m▂\u001b[39m▃\u001b[39m▄\u001b[39m▆\u001b[32m▇\u001b[39m\u001b[39m▆\u001b[39m▅\u001b[39m▄\u001b[39m▃\u001b[39m▃\u001b[39m▂\u001b[39m▂\u001b[39m▂\u001b[39m▂\u001b[39m▂\u001b[39m▂\u001b[39m▁\u001b[39m▁\u001b[39m▁\u001b[39m▁\u001b[39m▁\u001b[39m▁\u001b[39m▁\u001b[39m▁\u001b[39m▁\u001b[39m▁\u001b[39m▁\u001b[39m▁\u001b[39m▁\u001b[39m▁\u001b[39m▁\u001b[39m▁\u001b[39m▁\u001b[39m▁\u001b[39m▁\u001b[39m▁\u001b[39m▁\u001b[39m▁\u001b[39m▁\u001b[39m▁\u001b[39m▁\u001b[39m▁\u001b[39m▁\u001b[39m▁\u001b[39m▁\u001b[39m▁\u001b[39m▁\u001b[39m▁\u001b[39m▁\u001b[39m▁\u001b[39m \u001b[39m▂\n",
       "  388 μs\u001b[90m           Histogram: frequency by time\u001b[39m          773 μs \u001b[0m\u001b[1m<\u001b[22m\n",
       "\n",
       " Memory estimate\u001b[90m: \u001b[39m\u001b[33m234.66 KiB\u001b[39m, allocs estimate\u001b[90m: \u001b[39m\u001b[33m14\u001b[39m."
      ]
     },
     "metadata": {},
     "output_type": "display_data"
    }
   ],
   "source": [
    "@benchmark CUDA.@sync begin\n",
    "    centered_optical_lattice!(Nd, Rd, a, d, scatterers)\n",
    "    copyto!(scatterers_d, scatterers)\n",
    "end"
   ]
  },
  {
   "cell_type": "code",
   "execution_count": 29,
   "id": "da1995f4",
   "metadata": {},
   "outputs": [
    {
     "ename": "UndefVarError",
     "evalue": "UndefVarError: `compute_system_matrix!` not defined in `Main`\nSuggestion: check for spelling errors or missing imports.",
     "output_type": "error",
     "traceback": [
      "UndefVarError: `compute_system_matrix!` not defined in `Main`\n",
      "Suggestion: check for spelling errors or missing imports.\n",
      "\n",
      "Stacktrace:\n",
      "  [1] macro expansion\n",
      "    @ C:\\Users\\alexa\\.julia\\packages\\CUDA\\NwJPK\\src\\compiler\\execution.jl:107 [inlined]\n",
      "  [2] macro expansion\n",
      "    @ c:\\Users\\alexa\\Documents\\StageM1\\jl_notebook_cell_df34fa98e69747e1a8f8a730347b8e2f_X10sZmlsZQ==.jl:19 [inlined]\n",
      "  [3] macro expansion\n",
      "    @ C:\\Users\\alexa\\.julia\\packages\\CUDA\\NwJPK\\src\\utilities.jl:35 [inlined]\n",
      "  [4] macro expansion\n",
      "    @ c:\\Users\\alexa\\Documents\\StageM1\\jl_notebook_cell_df34fa98e69747e1a8f8a730347b8e2f_X10sZmlsZQ==.jl:17 [inlined]\n",
      "  [5] var\"##core#331\"()\n",
      "    @ Main C:\\Users\\alexa\\.julia\\packages\\BenchmarkTools\\1i1mY\\src\\execution.jl:598\n",
      "  [6] var\"##sample#332\"(::Tuple{}, __params::BenchmarkTools.Parameters)\n",
      "    @ Main C:\\Users\\alexa\\.julia\\packages\\BenchmarkTools\\1i1mY\\src\\execution.jl:607\n",
      "  [7] _lineartrial(b::BenchmarkTools.Benchmark, p::BenchmarkTools.Parameters; maxevals::Int64, kwargs::@Kwargs{})\n",
      "    @ BenchmarkTools C:\\Users\\alexa\\.julia\\packages\\BenchmarkTools\\1i1mY\\src\\execution.jl:186\n",
      "  [8] _lineartrial(b::BenchmarkTools.Benchmark, p::BenchmarkTools.Parameters)\n",
      "    @ BenchmarkTools C:\\Users\\alexa\\.julia\\packages\\BenchmarkTools\\1i1mY\\src\\execution.jl:181\n",
      "  [9] #invokelatest#2\n",
      "    @ .\\essentials.jl:1055 [inlined]\n",
      " [10] invokelatest\n",
      "    @ .\\essentials.jl:1052 [inlined]\n",
      " [11] #lineartrial#46\n",
      "    @ C:\\Users\\alexa\\.julia\\packages\\BenchmarkTools\\1i1mY\\src\\execution.jl:51 [inlined]\n",
      " [12] lineartrial\n",
      "    @ C:\\Users\\alexa\\.julia\\packages\\BenchmarkTools\\1i1mY\\src\\execution.jl:50 [inlined]\n",
      " [13] tune!(b::BenchmarkTools.Benchmark, p::BenchmarkTools.Parameters; progressid::Nothing, nleaves::Float64, ndone::Float64, verbose::Bool, pad::String, kwargs::@Kwargs{})\n",
      "    @ BenchmarkTools C:\\Users\\alexa\\.julia\\packages\\BenchmarkTools\\1i1mY\\src\\execution.jl:299\n",
      " [14] tune!\n",
      "    @ C:\\Users\\alexa\\.julia\\packages\\BenchmarkTools\\1i1mY\\src\\execution.jl:288 [inlined]\n",
      " [15] tune!(b::BenchmarkTools.Benchmark)\n",
      "    @ BenchmarkTools C:\\Users\\alexa\\.julia\\packages\\BenchmarkTools\\1i1mY\\src\\execution.jl:288\n",
      " [16] top-level scope\n",
      "    @ C:\\Users\\alexa\\.julia\\packages\\BenchmarkTools\\1i1mY\\src\\execution.jl:461"
     ]
    }
   ],
   "source": [
    "# compute_system_matrix!(scatterers, M, Δ0)\n",
    "\n",
    "# threads = (16, 16)\n",
    "# blocks = (cld(Na, threads[1]), cld(Na, threads[2]))\n",
    "\n",
    "# CUDA.@sync begin\n",
    "#     scatterers_d = CuArray{Float32}(scatterers)\n",
    "#     CUDA.@cuda fastmath=true threads=threads blocks=blocks compute_system_matrix!(scatterers_d, M_d, Δ0)\n",
    "# end\n",
    "\n",
    "@benchmark begin\n",
    "    centered_optical_lattice!(Nd, Rd, a, d, scatterers)\n",
    "\n",
    "    threads = (16, 16)\n",
    "    blocks = (cld(Na, threads[1]), cld(Na, threads[2]))\n",
    "\n",
    "    CUDA.@sync begin\n",
    "        scatterers_d = CuArray{Float32}(scatterers)\n",
    "        CUDA.@cuda fastmath=true threads=threads blocks=blocks compute_system_matrix!(scatterers_d, M_d, Δ0)\n",
    "    end\n",
    "\n",
    "    E.= 0.5im .* compute_field.(@view(scatterers[1, :]), @view(scatterers[2, :]), @view(scatterers[3, :]), field=incident_field)\n",
    "    copyto!(E_d, E);\n",
    "\n",
    "    CUDA.@sync A_d = M_d \\ E_d;\n",
    "\n",
    "    threads = (16, 16)\n",
    "    blocks = (cld(Np, threads[1]), cld(Np, threads[2]))\n",
    "\n",
    "    CUDA.@sync CUDA.@cuda fastmath=true threads=threads blocks=blocks compute_field_xOz!(-60.0f0, 60.0f0, -60.0f0, 60.0f0, convert(Int32, Np), field_d, scatterers_d, A_d)\n",
    "end"
   ]
  },
  {
   "cell_type": "code",
   "execution_count": 34,
   "id": "b067c09f",
   "metadata": {},
   "outputs": [],
   "source": [
    "E.= 0.5im .* compute_field.(@view(scatterers[1, :]), @view(scatterers[2, :]), @view(scatterers[3, :]), field=incident_field)\n",
    "copyto!(E_d, E);"
   ]
  },
  {
   "cell_type": "code",
   "execution_count": 35,
   "id": "3f475af2",
   "metadata": {},
   "outputs": [],
   "source": [
    "M = Symmetric(M)\n",
    "A = M \\ E;\n",
    "A_d = M_d \\ E_d;"
   ]
  },
  {
   "cell_type": "code",
   "execution_count": 44,
   "id": "84099cd8",
   "metadata": {},
   "outputs": [
    {
     "data": {
      "text/plain": [
       "CUDA.HostKernel for compute_field_xOz!(Float32, Float32, Float32, Float32, Int32, CuDeviceMatrix{ComplexF32, 1}, CuDeviceMatrix{Float32, 1}, CuDeviceVector{ComplexF32, 1})"
      ]
     },
     "metadata": {},
     "output_type": "display_data"
    }
   ],
   "source": [
    "threads = (16, 16)\n",
    "blocks = (cld(Np, threads[1]), cld(Np, threads[2]))\n",
    "\n",
    "CUDA.@cuda fastmath=true threads=threads blocks=blocks compute_field_xOz!(-60.0f0, 60.0f0, -60.0f0, 60.0f0, convert(Int32, Np), field_d, scatterers_d, A_d)"
   ]
  }
 ],
 "metadata": {
  "kernelspec": {
   "display_name": "Julia 1.11.5",
   "language": "julia",
   "name": "julia-1.11"
  },
  "language_info": {
   "file_extension": ".jl",
   "mimetype": "application/julia",
   "name": "julia",
   "version": "1.11.5"
  }
 },
 "nbformat": 4,
 "nbformat_minor": 5
}
