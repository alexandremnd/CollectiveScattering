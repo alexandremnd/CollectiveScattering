{
 "cells": [
  {
   "cell_type": "code",
   "execution_count": null,
   "id": "97eea350",
   "metadata": {},
   "outputs": [],
   "source": [
    "import numpy as np\n",
    "import matplotlib.pyplot as plt\n",
    "from matplotlib.colors import LogNorm\n",
    "from matplotlib.patches import Rectangle\n",
    "\n",
    "plt.style.use('article.mplstyle')"
   ]
  },
  {
   "cell_type": "markdown",
   "id": "77df7503",
   "metadata": {},
   "source": [
    "# Optimal reflection search"
   ]
  },
  {
   "cell_type": "code",
   "execution_count": null,
   "id": "850f5012",
   "metadata": {},
   "outputs": [],
   "source": [
    "delta = np.loadtxt(\"data/DetuningSearch-1/detuning.csv\")\n",
    "R = np.loadtxt(\"data/DetuningSearch-1/reflection_coefficients.csv\")\n",
    "\n",
    "max_idx = np.argmax(R)\n",
    "max_R = R[max_idx]\n",
    "max_delta = delta[max_idx]\n",
    "\n",
    "print(f\"Maximum reflection coefficient: {max_R:.4f} at detuning: {max_delta:.4f} Γ\")\n",
    "\n",
    "plt.plot(delta, R, 'o--', markersize=4, color='black')\n",
    "plt.xlabel(r\"Detuning $\\Delta_0$ ($\\Gamma$)\")\n",
    "plt.ylabel(r\"Reflection Coefficient $R$\")\n",
    "plt.axvline(x=0, color='black', linestyle='--', linewidth=0.5)\n",
    "plt.savefig(\"fig/detuning_search.svg\", bbox_inches='tight')\n",
    "plt.show()"
   ]
  },
  {
   "cell_type": "markdown",
   "id": "cf7da738",
   "metadata": {},
   "source": [
    "# 2D Stationnary Intensity Plot"
   ]
  },
  {
   "cell_type": "code",
   "execution_count": null,
   "id": "341cc8bf",
   "metadata": {},
   "outputs": [],
   "source": [
    "X = np.loadtxt(\"save/X_2D.csv\", delimiter=\",\")\n",
    "Z = np.loadtxt(\"save/Z_2D.csv\", delimiter=\",\")\n",
    "intensity = np.loadtxt(\"save/intensity_2D.csv\", delimiter=\",\")\n",
    "\n",
    "def show_intensity_xOz(I, x, z, scatterers,  *arrow_directions, cmap='binary'):\n",
    "    x_max = np.max(scatterers[:, 0])\n",
    "    x_min = np.min(scatterers[:, 0])\n",
    "    z_max = np.max(scatterers[:, 2])\n",
    "    z_min = np.min(scatterers[:, 2])\n",
    "\n",
    "    fig = plt.figure()\n",
    "    ax = fig.add_subplot()\n",
    "\n",
    "    surface = ax.pcolormesh(z, x, I, cmap=cmap, norm=LogNorm(vmin=np.min(I), vmax=np.max(I)), shading='gouraud')\n",
    "    # cbar = fig.colorbar(surface, ax=ax)\n",
    "    # cbar.set_label(\"$(|E|/E_0)^2$\")\n",
    "\n",
    "    # rect = Rectangle((z_min, x_min), width=z_max-z_min, height=x_max-x_min, linewidth=1.5, linestyle='--',\n",
    "    #                  edgecolor='black', facecolor='none')\n",
    "    # ax.add_patch(rect)\n",
    "\n",
    "    # for direction in arrow_directions:\n",
    "    #     plt.quiver(0, 0, direction[2], direction[0], angles='xy', scale=8)\n",
    "\n",
    "    # plt.xlabel('$z ~ (\\\\lambda)$')\n",
    "    # plt.ylabel(\"$x ~ (\\\\lambda)$\")\n",
    "    # ax.set_title(f\"Stationnary intensity in the $xOz$ plane\\n\")"
   ]
  },
  {
   "cell_type": "code",
   "execution_count": null,
   "id": "d2b1d149",
   "metadata": {},
   "outputs": [],
   "source": [
    "show_intensity_xOz(intensity, X, Z, X, [0, 0, 0], [0, 0, 0], cmap='jet')\n",
    "plt.gca().set_facecolor('none')\n",
    "plt.gcf().patch.set_facecolor('none')\n",
    "plt.xticks([])\n",
    "plt.yticks([])\n",
    "plt.savefig(\"intensity.png\", dpi=600, bbox_inches='tight')\n",
    "plt.show()"
   ]
  },
  {
   "cell_type": "code",
   "execution_count": null,
   "id": "a405c8f3",
   "metadata": {},
   "outputs": [],
   "source": [
    "\n",
    "\n",
    "JOBID=22067\n",
    "I = np.loadtxt(f\"data/Dynamic/intensity-{JOBID}.csv\", delimiter=\",\")\n",
    "t = np.loadtxt(f\"data/Dynamic/time-{JOBID}.txt\", delimiter=\",\")\n",
    "\n",
    "for i in range(I.shape[0]):\n",
    "    plt.plot(t, I[i, :], label=f\"{5*i}°\")\n",
    "\n",
    "plt.xlabel(\"Time ($\\\\Gamma^{-1}$)\")\n",
    "plt.ylabel(\"Intensity (a.u.)\")\n",
    "plt.legend(loc='upper right', ncol=2, fontsize='small')\n",
    "plt.show()"
   ]
  },
  {
   "cell_type": "code",
   "execution_count": null,
   "id": "d66f3f44",
   "metadata": {},
   "outputs": [],
   "source": []
  }
 ],
 "metadata": {
  "kernelspec": {
   "display_name": ".venv",
   "language": "python",
   "name": "python3"
  },
  "language_info": {
   "codemirror_mode": {
    "name": "ipython",
    "version": 3
   },
   "file_extension": ".py",
   "mimetype": "text/x-python",
   "name": "python",
   "nbconvert_exporter": "python",
   "pygments_lexer": "ipython3",
   "version": "3.8.16"
  }
 },
 "nbformat": 4,
 "nbformat_minor": 5
}
